{
 "cells": [
  {
   "cell_type": "code",
   "execution_count": 72,
   "metadata": {},
   "outputs": [],
   "source": [
    "##importing modules\n",
    "import tensorflow as tf\n",
    "from keras.preprocessing.text import Tokenizer\n",
    "from keras.utils import pad_sequences"
   ]
  },
  {
   "cell_type": "code",
   "execution_count": 73,
   "metadata": {},
   "outputs": [],
   "source": [
    "# dataset imdb\n",
    "from keras.datasets import imdb"
   ]
  },
  {
   "cell_type": "code",
   "execution_count": 74,
   "metadata": {},
   "outputs": [],
   "source": [
    "(x_train,y_train),(x_test,y_test)=imdb.load_data()"
   ]
  },
  {
   "cell_type": "code",
   "execution_count": 75,
   "metadata": {},
   "outputs": [
    {
     "name": "stdout",
     "output_type": "stream",
     "text": [
      "total number of observations: 25000\n"
     ]
    }
   ],
   "source": [
    "print(\"total number of observations:\",len(y_train))"
   ]
  },
  {
   "cell_type": "code",
   "execution_count": 76,
   "metadata": {},
   "outputs": [
    {
     "name": "stdout",
     "output_type": "stream",
     "text": [
      "total number of reviews: 2\n"
     ]
    }
   ],
   "source": [
    "import numpy as np\n",
    "print(\"total number of reviews:\",len(np.unique(y_train)))"
   ]
  },
  {
   "cell_type": "code",
   "execution_count": 114,
   "metadata": {},
   "outputs": [],
   "source": [
    "##pading our reviews \n",
    "x_train_padded=pad_sequences(x_train,padding=\"post\",maxlen=50)\n",
    "x_test_padded=pad_sequences(x_test,padding=\"post\",maxlen=50)"
   ]
  },
  {
   "cell_type": "code",
   "execution_count": 115,
   "metadata": {},
   "outputs": [
    {
     "name": "stdout",
     "output_type": "stream",
     "text": [
      "total number of time instanses : 50 and total number of reviews in training : 25000\n"
     ]
    },
    {
     "data": {
      "text/plain": [
       "(25000, 50)"
      ]
     },
     "execution_count": 115,
     "metadata": {},
     "output_type": "execute_result"
    }
   ],
   "source": [
    "print(\"total number of time instanses :\",x_train_padded.shape[1],\"and total number of reviews in training :\",x_test_padded.shape[0])\n",
    "x_train_padded.shape"
   ]
  },
  {
   "cell_type": "code",
   "execution_count": 116,
   "metadata": {},
   "outputs": [
    {
     "name": "stdout",
     "output_type": "stream",
     "text": [
      "vocab size : 88586\n"
     ]
    }
   ],
   "source": [
    "max_index_train = max(max(sequence) for sequence in x_train)\n",
    "print(\"vocab size :\",max_index_train)"
   ]
  },
  {
   "cell_type": "code",
   "execution_count": 117,
   "metadata": {},
   "outputs": [],
   "source": [
    "model=tf.keras.Sequential()\n",
    "model.add(tf.keras.layers.Embedding(input_dim=88586+1,output_dim=2,input_length=50))\n",
    "model.add(tf.keras.layers.SimpleRNN(32,return_sequences=False))\n",
    "model.add(tf.keras.layers.Dense(1,activation=\"sigmoid\"))"
   ]
  },
  {
   "cell_type": "code",
   "execution_count": 118,
   "metadata": {},
   "outputs": [
    {
     "name": "stdout",
     "output_type": "stream",
     "text": [
      "Model: \"sequential_14\"\n",
      "_________________________________________________________________\n",
      " Layer (type)                Output Shape              Param #   \n",
      "=================================================================\n",
      " embedding_13 (Embedding)    (None, 50, 2)             177174    \n",
      "                                                                 \n",
      " simple_rnn_12 (SimpleRNN)   (None, 32)                1120      \n",
      "                                                                 \n",
      " dense_12 (Dense)            (None, 1)                 33        \n",
      "                                                                 \n",
      "=================================================================\n",
      "Total params: 178,327\n",
      "Trainable params: 178,327\n",
      "Non-trainable params: 0\n",
      "_________________________________________________________________\n"
     ]
    }
   ],
   "source": [
    "model.summary()"
   ]
  },
  {
   "cell_type": "code",
   "execution_count": 119,
   "metadata": {},
   "outputs": [
    {
     "data": {
      "text/plain": [
       "[]"
      ]
     },
     "execution_count": 119,
     "metadata": {},
     "output_type": "execute_result"
    }
   ],
   "source": [
    "tf.config.list_physical_devices('GPU')"
   ]
  },
  {
   "cell_type": "code",
   "execution_count": 120,
   "metadata": {},
   "outputs": [
    {
     "name": "stdout",
     "output_type": "stream",
     "text": [
      "Epoch 1/5\n",
      "782/782 [==============================] - 12s 13ms/step - loss: 0.6227 - acc: 0.6192 - val_loss: 0.5050 - val_acc: 0.7659\n",
      "Epoch 2/5\n",
      "782/782 [==============================] - 10s 13ms/step - loss: 0.3819 - acc: 0.8340 - val_loss: 0.4225 - val_acc: 0.8086\n",
      "Epoch 3/5\n",
      "782/782 [==============================] - 10s 13ms/step - loss: 0.2649 - acc: 0.8950 - val_loss: 0.4598 - val_acc: 0.8066\n",
      "Epoch 4/5\n",
      "782/782 [==============================] - 12s 15ms/step - loss: 0.1879 - acc: 0.9328 - val_loss: 0.5217 - val_acc: 0.7958\n",
      "Epoch 5/5\n",
      "782/782 [==============================] - 12s 15ms/step - loss: 0.1376 - acc: 0.9519 - val_loss: 0.5438 - val_acc: 0.7900\n"
     ]
    }
   ],
   "source": [
    "model.compile(optimizer=\"adam\",loss=\"binary_crossentropy\",metrics=[\"acc\"])\n",
    "history=model.fit(x_train_padded,y_train,epochs=5,validation_data=(x_test_padded,y_test))"
   ]
  },
  {
   "cell_type": "code",
   "execution_count": null,
   "metadata": {},
   "outputs": [],
   "source": []
  }
 ],
 "metadata": {
  "kernelspec": {
   "display_name": "gpupy310",
   "language": "python",
   "name": "python3"
  },
  "language_info": {
   "codemirror_mode": {
    "name": "ipython",
    "version": 3
   },
   "file_extension": ".py",
   "mimetype": "text/x-python",
   "name": "python",
   "nbconvert_exporter": "python",
   "pygments_lexer": "ipython3",
   "version": "3.10.13"
  }
 },
 "nbformat": 4,
 "nbformat_minor": 2
}
